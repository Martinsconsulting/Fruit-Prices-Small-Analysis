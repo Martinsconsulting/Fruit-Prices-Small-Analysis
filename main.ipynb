{
 "cells": [
  {
   "cell_type": "code",
   "execution_count": 1,
   "metadata": {},
   "outputs": [],
   "source": [
    "import pandas as pd\n",
    "import matplotlib.pyplot as plt\n",
    "import seaborn as sns\n"
   ]
  },
  {
   "cell_type": "code",
   "execution_count": 2,
   "metadata": {},
   "outputs": [],
   "source": [
    "path = 'https://www.ers.usda.gov/webdocs/DataFiles/51035/Fruit%20Prices%202020.csv?v=2740.1'\n",
    "df = pd.read_csv(path)"
   ]
  },
  {
   "cell_type": "code",
   "execution_count": 3,
   "metadata": {},
   "outputs": [
    {
     "data": {
      "text/html": [
       "<div>\n",
       "<style scoped>\n",
       "    .dataframe tbody tr th:only-of-type {\n",
       "        vertical-align: middle;\n",
       "    }\n",
       "\n",
       "    .dataframe tbody tr th {\n",
       "        vertical-align: top;\n",
       "    }\n",
       "\n",
       "    .dataframe thead th {\n",
       "        text-align: right;\n",
       "    }\n",
       "</style>\n",
       "<table border=\"1\" class=\"dataframe\">\n",
       "  <thead>\n",
       "    <tr style=\"text-align: right;\">\n",
       "      <th></th>\n",
       "      <th>Fruit</th>\n",
       "      <th>Form</th>\n",
       "      <th>RetailPrice</th>\n",
       "      <th>RetailPriceUnit</th>\n",
       "      <th>Yield</th>\n",
       "      <th>CupEquivalentSize</th>\n",
       "      <th>CupEquivalentUnit</th>\n",
       "      <th>CupEquivalentPrice</th>\n",
       "    </tr>\n",
       "  </thead>\n",
       "  <tbody>\n",
       "    <tr>\n",
       "      <th>0</th>\n",
       "      <td>Apples</td>\n",
       "      <td>Fresh</td>\n",
       "      <td>1.5193</td>\n",
       "      <td>per pound</td>\n",
       "      <td>0.90</td>\n",
       "      <td>0.2425</td>\n",
       "      <td>pounds</td>\n",
       "      <td>0.4094</td>\n",
       "    </tr>\n",
       "    <tr>\n",
       "      <th>1</th>\n",
       "      <td>Apples, applesauce</td>\n",
       "      <td>Canned</td>\n",
       "      <td>1.0660</td>\n",
       "      <td>per pound</td>\n",
       "      <td>1.00</td>\n",
       "      <td>0.5401</td>\n",
       "      <td>pounds</td>\n",
       "      <td>0.5758</td>\n",
       "    </tr>\n",
       "    <tr>\n",
       "      <th>2</th>\n",
       "      <td>Apples, ready-to-drink</td>\n",
       "      <td>Juice</td>\n",
       "      <td>0.7804</td>\n",
       "      <td>per pint</td>\n",
       "      <td>1.00</td>\n",
       "      <td>8.0000</td>\n",
       "      <td>fluid ounces</td>\n",
       "      <td>0.3902</td>\n",
       "    </tr>\n",
       "    <tr>\n",
       "      <th>3</th>\n",
       "      <td>Apples, frozen concentrate</td>\n",
       "      <td>Juice</td>\n",
       "      <td>0.5853</td>\n",
       "      <td>per pint</td>\n",
       "      <td>1.00</td>\n",
       "      <td>8.0000</td>\n",
       "      <td>fluid ounces</td>\n",
       "      <td>0.2926</td>\n",
       "    </tr>\n",
       "    <tr>\n",
       "      <th>4</th>\n",
       "      <td>Apricots</td>\n",
       "      <td>Fresh</td>\n",
       "      <td>2.9665</td>\n",
       "      <td>per pound</td>\n",
       "      <td>0.93</td>\n",
       "      <td>0.3638</td>\n",
       "      <td>pounds</td>\n",
       "      <td>1.1603</td>\n",
       "    </tr>\n",
       "    <tr>\n",
       "      <th>...</th>\n",
       "      <td>...</td>\n",
       "      <td>...</td>\n",
       "      <td>...</td>\n",
       "      <td>...</td>\n",
       "      <td>...</td>\n",
       "      <td>...</td>\n",
       "      <td>...</td>\n",
       "      <td>...</td>\n",
       "    </tr>\n",
       "    <tr>\n",
       "      <th>57</th>\n",
       "      <td>Raspberries</td>\n",
       "      <td>Fresh</td>\n",
       "      <td>6.6391</td>\n",
       "      <td>per pound</td>\n",
       "      <td>0.96</td>\n",
       "      <td>0.3197</td>\n",
       "      <td>pounds</td>\n",
       "      <td>2.2107</td>\n",
       "    </tr>\n",
       "    <tr>\n",
       "      <th>58</th>\n",
       "      <td>Raspberries</td>\n",
       "      <td>Frozen</td>\n",
       "      <td>4.1877</td>\n",
       "      <td>per pound</td>\n",
       "      <td>1.00</td>\n",
       "      <td>0.3307</td>\n",
       "      <td>pounds</td>\n",
       "      <td>1.3849</td>\n",
       "    </tr>\n",
       "    <tr>\n",
       "      <th>59</th>\n",
       "      <td>Strawberries</td>\n",
       "      <td>Fresh</td>\n",
       "      <td>2.5800</td>\n",
       "      <td>per pound</td>\n",
       "      <td>0.94</td>\n",
       "      <td>0.3197</td>\n",
       "      <td>pounds</td>\n",
       "      <td>0.8774</td>\n",
       "    </tr>\n",
       "    <tr>\n",
       "      <th>60</th>\n",
       "      <td>Strawberries</td>\n",
       "      <td>Frozen</td>\n",
       "      <td>2.8189</td>\n",
       "      <td>per pound</td>\n",
       "      <td>1.00</td>\n",
       "      <td>0.3307</td>\n",
       "      <td>pounds</td>\n",
       "      <td>0.9322</td>\n",
       "    </tr>\n",
       "    <tr>\n",
       "      <th>61</th>\n",
       "      <td>Watermelon</td>\n",
       "      <td>Fresh</td>\n",
       "      <td>0.3604</td>\n",
       "      <td>per pound</td>\n",
       "      <td>0.52</td>\n",
       "      <td>0.3307</td>\n",
       "      <td>pounds</td>\n",
       "      <td>0.2292</td>\n",
       "    </tr>\n",
       "  </tbody>\n",
       "</table>\n",
       "<p>62 rows × 8 columns</p>\n",
       "</div>"
      ],
      "text/plain": [
       "                         Fruit    Form  RetailPrice RetailPriceUnit  Yield  \\\n",
       "0                       Apples   Fresh       1.5193       per pound   0.90   \n",
       "1           Apples, applesauce  Canned       1.0660       per pound   1.00   \n",
       "2       Apples, ready-to-drink   Juice       0.7804        per pint   1.00   \n",
       "3   Apples, frozen concentrate   Juice       0.5853        per pint   1.00   \n",
       "4                     Apricots   Fresh       2.9665       per pound   0.93   \n",
       "..                         ...     ...          ...             ...    ...   \n",
       "57                 Raspberries   Fresh       6.6391       per pound   0.96   \n",
       "58                 Raspberries  Frozen       4.1877       per pound   1.00   \n",
       "59                Strawberries   Fresh       2.5800       per pound   0.94   \n",
       "60                Strawberries  Frozen       2.8189       per pound   1.00   \n",
       "61                  Watermelon   Fresh       0.3604       per pound   0.52   \n",
       "\n",
       "    CupEquivalentSize CupEquivalentUnit  CupEquivalentPrice  \n",
       "0              0.2425            pounds              0.4094  \n",
       "1              0.5401            pounds              0.5758  \n",
       "2              8.0000      fluid ounces              0.3902  \n",
       "3              8.0000      fluid ounces              0.2926  \n",
       "4              0.3638            pounds              1.1603  \n",
       "..                ...               ...                 ...  \n",
       "57             0.3197            pounds              2.2107  \n",
       "58             0.3307            pounds              1.3849  \n",
       "59             0.3197            pounds              0.8774  \n",
       "60             0.3307            pounds              0.9322  \n",
       "61             0.3307            pounds              0.2292  \n",
       "\n",
       "[62 rows x 8 columns]"
      ]
     },
     "execution_count": 3,
     "metadata": {},
     "output_type": "execute_result"
    }
   ],
   "source": [
    "df"
   ]
  },
  {
   "cell_type": "code",
   "execution_count": 4,
   "metadata": {},
   "outputs": [
    {
     "data": {
      "text/plain": [
       "(62, 8)"
      ]
     },
     "execution_count": 4,
     "metadata": {},
     "output_type": "execute_result"
    }
   ],
   "source": [
    "df.shape"
   ]
  },
  {
   "cell_type": "code",
   "execution_count": 5,
   "metadata": {},
   "outputs": [
    {
     "data": {
      "text/plain": [
       "Fruit                  object\n",
       "Form                   object\n",
       "RetailPrice           float64\n",
       "RetailPriceUnit        object\n",
       "Yield                 float64\n",
       "CupEquivalentSize     float64\n",
       "CupEquivalentUnit      object\n",
       "CupEquivalentPrice    float64\n",
       "dtype: object"
      ]
     },
     "execution_count": 5,
     "metadata": {},
     "output_type": "execute_result"
    }
   ],
   "source": [
    "df.dtypes"
   ]
  },
  {
   "cell_type": "code",
   "execution_count": 6,
   "metadata": {},
   "outputs": [
    {
     "data": {
      "text/plain": [
       "Fruit                 0\n",
       "Form                  0\n",
       "RetailPrice           0\n",
       "RetailPriceUnit       0\n",
       "Yield                 0\n",
       "CupEquivalentSize     0\n",
       "CupEquivalentUnit     0\n",
       "CupEquivalentPrice    0\n",
       "dtype: int64"
      ]
     },
     "execution_count": 6,
     "metadata": {},
     "output_type": "execute_result"
    }
   ],
   "source": [
    "df.isnull().sum()"
   ]
  },
  {
   "cell_type": "code",
   "execution_count": 7,
   "metadata": {},
   "outputs": [
    {
     "data": {
      "text/html": [
       "<div>\n",
       "<style scoped>\n",
       "    .dataframe tbody tr th:only-of-type {\n",
       "        vertical-align: middle;\n",
       "    }\n",
       "\n",
       "    .dataframe tbody tr th {\n",
       "        vertical-align: top;\n",
       "    }\n",
       "\n",
       "    .dataframe thead th {\n",
       "        text-align: right;\n",
       "    }\n",
       "</style>\n",
       "<table border=\"1\" class=\"dataframe\">\n",
       "  <thead>\n",
       "    <tr style=\"text-align: right;\">\n",
       "      <th></th>\n",
       "      <th>Fruit</th>\n",
       "      <th>Form</th>\n",
       "      <th>RetailPrice</th>\n",
       "      <th>RetailPriceUnit</th>\n",
       "      <th>Yield</th>\n",
       "      <th>CupEquivalentSize</th>\n",
       "      <th>CupEquivalentUnit</th>\n",
       "      <th>CupEquivalentPrice</th>\n",
       "    </tr>\n",
       "  </thead>\n",
       "  <tbody>\n",
       "    <tr>\n",
       "      <th>0</th>\n",
       "      <td>Apples</td>\n",
       "      <td>Fresh</td>\n",
       "      <td>1.5193</td>\n",
       "      <td>per pound</td>\n",
       "      <td>0.90</td>\n",
       "      <td>0.2425</td>\n",
       "      <td>pounds</td>\n",
       "      <td>0.4094</td>\n",
       "    </tr>\n",
       "    <tr>\n",
       "      <th>4</th>\n",
       "      <td>Apricots</td>\n",
       "      <td>Fresh</td>\n",
       "      <td>2.9665</td>\n",
       "      <td>per pound</td>\n",
       "      <td>0.93</td>\n",
       "      <td>0.3638</td>\n",
       "      <td>pounds</td>\n",
       "      <td>1.1603</td>\n",
       "    </tr>\n",
       "    <tr>\n",
       "      <th>8</th>\n",
       "      <td>Bananas</td>\n",
       "      <td>Fresh</td>\n",
       "      <td>0.5249</td>\n",
       "      <td>per pound</td>\n",
       "      <td>0.64</td>\n",
       "      <td>0.3307</td>\n",
       "      <td>pounds</td>\n",
       "      <td>0.2712</td>\n",
       "    </tr>\n",
       "    <tr>\n",
       "      <th>10</th>\n",
       "      <td>Blackberries</td>\n",
       "      <td>Fresh</td>\n",
       "      <td>6.0172</td>\n",
       "      <td>per pound</td>\n",
       "      <td>0.96</td>\n",
       "      <td>0.3197</td>\n",
       "      <td>pounds</td>\n",
       "      <td>2.0037</td>\n",
       "    </tr>\n",
       "    <tr>\n",
       "      <th>12</th>\n",
       "      <td>Blueberries</td>\n",
       "      <td>Fresh</td>\n",
       "      <td>4.1739</td>\n",
       "      <td>per pound</td>\n",
       "      <td>0.95</td>\n",
       "      <td>0.3197</td>\n",
       "      <td>pounds</td>\n",
       "      <td>1.4045</td>\n",
       "    </tr>\n",
       "    <tr>\n",
       "      <th>14</th>\n",
       "      <td>Cantaloupe</td>\n",
       "      <td>Fresh</td>\n",
       "      <td>0.5767</td>\n",
       "      <td>per pound</td>\n",
       "      <td>0.51</td>\n",
       "      <td>0.3748</td>\n",
       "      <td>pounds</td>\n",
       "      <td>0.4238</td>\n",
       "    </tr>\n",
       "    <tr>\n",
       "      <th>15</th>\n",
       "      <td>Cherries</td>\n",
       "      <td>Fresh</td>\n",
       "      <td>3.4269</td>\n",
       "      <td>per pound</td>\n",
       "      <td>0.92</td>\n",
       "      <td>0.3417</td>\n",
       "      <td>pounds</td>\n",
       "      <td>1.2729</td>\n",
       "    </tr>\n",
       "    <tr>\n",
       "      <th>17</th>\n",
       "      <td>Clementines</td>\n",
       "      <td>Fresh</td>\n",
       "      <td>1.3847</td>\n",
       "      <td>per pound</td>\n",
       "      <td>0.77</td>\n",
       "      <td>0.4630</td>\n",
       "      <td>pounds</td>\n",
       "      <td>0.8326</td>\n",
       "    </tr>\n",
       "    <tr>\n",
       "      <th>23</th>\n",
       "      <td>Grapefruit</td>\n",
       "      <td>Fresh</td>\n",
       "      <td>1.1695</td>\n",
       "      <td>per pound</td>\n",
       "      <td>0.49</td>\n",
       "      <td>0.4630</td>\n",
       "      <td>pounds</td>\n",
       "      <td>1.1050</td>\n",
       "    </tr>\n",
       "    <tr>\n",
       "      <th>25</th>\n",
       "      <td>Grapes</td>\n",
       "      <td>Fresh</td>\n",
       "      <td>1.8398</td>\n",
       "      <td>per pound</td>\n",
       "      <td>0.96</td>\n",
       "      <td>0.3307</td>\n",
       "      <td>pounds</td>\n",
       "      <td>0.6338</td>\n",
       "    </tr>\n",
       "    <tr>\n",
       "      <th>29</th>\n",
       "      <td>Honeydew</td>\n",
       "      <td>Fresh</td>\n",
       "      <td>0.9056</td>\n",
       "      <td>per pound</td>\n",
       "      <td>0.46</td>\n",
       "      <td>0.3748</td>\n",
       "      <td>pounds</td>\n",
       "      <td>0.7378</td>\n",
       "    </tr>\n",
       "    <tr>\n",
       "      <th>30</th>\n",
       "      <td>Kiwi</td>\n",
       "      <td>Fresh</td>\n",
       "      <td>2.1849</td>\n",
       "      <td>per pound</td>\n",
       "      <td>0.76</td>\n",
       "      <td>0.3858</td>\n",
       "      <td>pounds</td>\n",
       "      <td>1.1091</td>\n",
       "    </tr>\n",
       "    <tr>\n",
       "      <th>31</th>\n",
       "      <td>Mangoes</td>\n",
       "      <td>Fresh</td>\n",
       "      <td>1.1513</td>\n",
       "      <td>per pound</td>\n",
       "      <td>0.71</td>\n",
       "      <td>0.3638</td>\n",
       "      <td>pounds</td>\n",
       "      <td>0.5898</td>\n",
       "    </tr>\n",
       "    <tr>\n",
       "      <th>33</th>\n",
       "      <td>Nectarines</td>\n",
       "      <td>Fresh</td>\n",
       "      <td>1.9062</td>\n",
       "      <td>per pound</td>\n",
       "      <td>0.91</td>\n",
       "      <td>0.3197</td>\n",
       "      <td>pounds</td>\n",
       "      <td>0.6696</td>\n",
       "    </tr>\n",
       "    <tr>\n",
       "      <th>34</th>\n",
       "      <td>Oranges</td>\n",
       "      <td>Fresh</td>\n",
       "      <td>1.2131</td>\n",
       "      <td>per pound</td>\n",
       "      <td>0.68</td>\n",
       "      <td>0.4079</td>\n",
       "      <td>pounds</td>\n",
       "      <td>0.7276</td>\n",
       "    </tr>\n",
       "    <tr>\n",
       "      <th>37</th>\n",
       "      <td>Papaya</td>\n",
       "      <td>Fresh</td>\n",
       "      <td>1.2904</td>\n",
       "      <td>per pound</td>\n",
       "      <td>0.62</td>\n",
       "      <td>0.3086</td>\n",
       "      <td>pounds</td>\n",
       "      <td>0.6424</td>\n",
       "    </tr>\n",
       "    <tr>\n",
       "      <th>39</th>\n",
       "      <td>Peaches</td>\n",
       "      <td>Fresh</td>\n",
       "      <td>1.7167</td>\n",
       "      <td>per pound</td>\n",
       "      <td>0.96</td>\n",
       "      <td>0.3417</td>\n",
       "      <td>pounds</td>\n",
       "      <td>0.6111</td>\n",
       "    </tr>\n",
       "    <tr>\n",
       "      <th>43</th>\n",
       "      <td>Pears</td>\n",
       "      <td>Fresh</td>\n",
       "      <td>1.5865</td>\n",
       "      <td>per pound</td>\n",
       "      <td>0.90</td>\n",
       "      <td>0.3638</td>\n",
       "      <td>pounds</td>\n",
       "      <td>0.6412</td>\n",
       "    </tr>\n",
       "    <tr>\n",
       "      <th>46</th>\n",
       "      <td>Pineapple</td>\n",
       "      <td>Fresh</td>\n",
       "      <td>0.5685</td>\n",
       "      <td>per pound</td>\n",
       "      <td>0.51</td>\n",
       "      <td>0.3638</td>\n",
       "      <td>pounds</td>\n",
       "      <td>0.4055</td>\n",
       "    </tr>\n",
       "    <tr>\n",
       "      <th>52</th>\n",
       "      <td>Plum</td>\n",
       "      <td>Fresh</td>\n",
       "      <td>2.0292</td>\n",
       "      <td>per pound</td>\n",
       "      <td>0.94</td>\n",
       "      <td>0.3638</td>\n",
       "      <td>pounds</td>\n",
       "      <td>0.7852</td>\n",
       "    </tr>\n",
       "    <tr>\n",
       "      <th>55</th>\n",
       "      <td>Pomegranate</td>\n",
       "      <td>Fresh</td>\n",
       "      <td>2.2350</td>\n",
       "      <td>per pound</td>\n",
       "      <td>0.56</td>\n",
       "      <td>0.3417</td>\n",
       "      <td>pounds</td>\n",
       "      <td>1.3638</td>\n",
       "    </tr>\n",
       "    <tr>\n",
       "      <th>57</th>\n",
       "      <td>Raspberries</td>\n",
       "      <td>Fresh</td>\n",
       "      <td>6.6391</td>\n",
       "      <td>per pound</td>\n",
       "      <td>0.96</td>\n",
       "      <td>0.3197</td>\n",
       "      <td>pounds</td>\n",
       "      <td>2.2107</td>\n",
       "    </tr>\n",
       "    <tr>\n",
       "      <th>59</th>\n",
       "      <td>Strawberries</td>\n",
       "      <td>Fresh</td>\n",
       "      <td>2.5800</td>\n",
       "      <td>per pound</td>\n",
       "      <td>0.94</td>\n",
       "      <td>0.3197</td>\n",
       "      <td>pounds</td>\n",
       "      <td>0.8774</td>\n",
       "    </tr>\n",
       "    <tr>\n",
       "      <th>61</th>\n",
       "      <td>Watermelon</td>\n",
       "      <td>Fresh</td>\n",
       "      <td>0.3604</td>\n",
       "      <td>per pound</td>\n",
       "      <td>0.52</td>\n",
       "      <td>0.3307</td>\n",
       "      <td>pounds</td>\n",
       "      <td>0.2292</td>\n",
       "    </tr>\n",
       "  </tbody>\n",
       "</table>\n",
       "</div>"
      ],
      "text/plain": [
       "           Fruit   Form  RetailPrice RetailPriceUnit  Yield  \\\n",
       "0         Apples  Fresh       1.5193       per pound   0.90   \n",
       "4       Apricots  Fresh       2.9665       per pound   0.93   \n",
       "8        Bananas  Fresh       0.5249       per pound   0.64   \n",
       "10  Blackberries  Fresh       6.0172       per pound   0.96   \n",
       "12   Blueberries  Fresh       4.1739       per pound   0.95   \n",
       "14    Cantaloupe  Fresh       0.5767       per pound   0.51   \n",
       "15      Cherries  Fresh       3.4269       per pound   0.92   \n",
       "17   Clementines  Fresh       1.3847       per pound   0.77   \n",
       "23    Grapefruit  Fresh       1.1695       per pound   0.49   \n",
       "25        Grapes  Fresh       1.8398       per pound   0.96   \n",
       "29      Honeydew  Fresh       0.9056       per pound   0.46   \n",
       "30          Kiwi  Fresh       2.1849       per pound   0.76   \n",
       "31       Mangoes  Fresh       1.1513       per pound   0.71   \n",
       "33    Nectarines  Fresh       1.9062       per pound   0.91   \n",
       "34       Oranges  Fresh       1.2131       per pound   0.68   \n",
       "37        Papaya  Fresh       1.2904       per pound   0.62   \n",
       "39       Peaches  Fresh       1.7167       per pound   0.96   \n",
       "43         Pears  Fresh       1.5865       per pound   0.90   \n",
       "46     Pineapple  Fresh       0.5685       per pound   0.51   \n",
       "52          Plum  Fresh       2.0292       per pound   0.94   \n",
       "55   Pomegranate  Fresh       2.2350       per pound   0.56   \n",
       "57   Raspberries  Fresh       6.6391       per pound   0.96   \n",
       "59  Strawberries  Fresh       2.5800       per pound   0.94   \n",
       "61    Watermelon  Fresh       0.3604       per pound   0.52   \n",
       "\n",
       "    CupEquivalentSize CupEquivalentUnit  CupEquivalentPrice  \n",
       "0              0.2425            pounds              0.4094  \n",
       "4              0.3638            pounds              1.1603  \n",
       "8              0.3307            pounds              0.2712  \n",
       "10             0.3197            pounds              2.0037  \n",
       "12             0.3197            pounds              1.4045  \n",
       "14             0.3748            pounds              0.4238  \n",
       "15             0.3417            pounds              1.2729  \n",
       "17             0.4630            pounds              0.8326  \n",
       "23             0.4630            pounds              1.1050  \n",
       "25             0.3307            pounds              0.6338  \n",
       "29             0.3748            pounds              0.7378  \n",
       "30             0.3858            pounds              1.1091  \n",
       "31             0.3638            pounds              0.5898  \n",
       "33             0.3197            pounds              0.6696  \n",
       "34             0.4079            pounds              0.7276  \n",
       "37             0.3086            pounds              0.6424  \n",
       "39             0.3417            pounds              0.6111  \n",
       "43             0.3638            pounds              0.6412  \n",
       "46             0.3638            pounds              0.4055  \n",
       "52             0.3638            pounds              0.7852  \n",
       "55             0.3417            pounds              1.3638  \n",
       "57             0.3197            pounds              2.2107  \n",
       "59             0.3197            pounds              0.8774  \n",
       "61             0.3307            pounds              0.2292  "
      ]
     },
     "execution_count": 7,
     "metadata": {},
     "output_type": "execute_result"
    }
   ],
   "source": [
    "fresh = df[df['Form'] == 'Fresh']\n",
    "fresh"
   ]
  },
  {
   "cell_type": "code",
   "execution_count": 8,
   "metadata": {},
   "outputs": [
    {
     "name": "stderr",
     "output_type": "stream",
     "text": [
      "c:\\Users\\steph\\AppData\\Local\\Programs\\Python\\Python311\\Lib\\site-packages\\seaborn\\axisgrid.py:123: UserWarning: The figure layout has changed to tight\n",
      "  self._figure.tight_layout(*args, **kwargs)\n"
     ]
    },
    {
     "data": {
      "image/png": "[encoded data removed]",
      "text/plain": [
       "<Figure size 500x500 with 1 Axes>"
      ]
     },
     "metadata": {},
     "output_type": "display_data"
    }
   ],
   "source": [
    "sns.catplot(x=fresh['Fruit'], y=fresh['RetailPrice'], kind='bar')\n",
    "plt.xticks(rotation=90)\n",
    "plt.ylabel('Retail Price per pound')\n",
    "plt.show()"
   ]
  },
  {
   "cell_type": "code",
   "execution_count": 9,
   "metadata": {},
   "outputs": [
    {
     "data": {
      "text/plain": [
       "0.3604"
      ]
     },
     "execution_count": 9,
     "metadata": {},
     "output_type": "execute_result"
    }
   ],
   "source": [
    "cheapest_fresh = fresh['RetailPrice'].min()\n",
    "cheapest_fresh"
   ]
  },
  {
   "cell_type": "code",
   "execution_count": 10,
   "metadata": {},
   "outputs": [
    {
     "data": {
      "text/html": [
       "<div>\n",
       "<style scoped>\n",
       "    .dataframe tbody tr th:only-of-type {\n",
       "        vertical-align: middle;\n",
       "    }\n",
       "\n",
       "    .dataframe tbody tr th {\n",
       "        vertical-align: top;\n",
       "    }\n",
       "\n",
       "    .dataframe thead th {\n",
       "        text-align: right;\n",
       "    }\n",
       "</style>\n",
       "<table border=\"1\" class=\"dataframe\">\n",
       "  <thead>\n",
       "    <tr style=\"text-align: right;\">\n",
       "      <th></th>\n",
       "      <th>Fruit</th>\n",
       "      <th>Form</th>\n",
       "      <th>RetailPrice</th>\n",
       "      <th>RetailPriceUnit</th>\n",
       "      <th>Yield</th>\n",
       "      <th>CupEquivalentSize</th>\n",
       "      <th>CupEquivalentUnit</th>\n",
       "      <th>CupEquivalentPrice</th>\n",
       "    </tr>\n",
       "  </thead>\n",
       "  <tbody>\n",
       "    <tr>\n",
       "      <th>61</th>\n",
       "      <td>Watermelon</td>\n",
       "      <td>Fresh</td>\n",
       "      <td>0.3604</td>\n",
       "      <td>per pound</td>\n",
       "      <td>0.52</td>\n",
       "      <td>0.3307</td>\n",
       "      <td>pounds</td>\n",
       "      <td>0.2292</td>\n",
       "    </tr>\n",
       "  </tbody>\n",
       "</table>\n",
       "</div>"
      ],
      "text/plain": [
       "         Fruit   Form  RetailPrice RetailPriceUnit  Yield  CupEquivalentSize  \\\n",
       "61  Watermelon  Fresh       0.3604       per pound   0.52             0.3307   \n",
       "\n",
       "   CupEquivalentUnit  CupEquivalentPrice  \n",
       "61            pounds              0.2292  "
      ]
     },
     "execution_count": 10,
     "metadata": {},
     "output_type": "execute_result"
    }
   ],
   "source": [
    "cheapest_fresh = fresh[fresh['RetailPrice'] ==0.3604]\n",
    "cheapest_fresh"
   ]
  },
  {
   "cell_type": "code",
   "execution_count": 11,
   "metadata": {},
   "outputs": [
    {
     "data": {
      "text/plain": [
       "6.6391"
      ]
     },
     "execution_count": 11,
     "metadata": {},
     "output_type": "execute_result"
    }
   ],
   "source": [
    "expensive_fresh = fresh['RetailPrice'].max()\n",
    "expensive_fresh"
   ]
  },
  {
   "cell_type": "code",
   "execution_count": 12,
   "metadata": {},
   "outputs": [
    {
     "data": {
      "text/html": [
       "<div>\n",
       "<style scoped>\n",
       "    .dataframe tbody tr th:only-of-type {\n",
       "        vertical-align: middle;\n",
       "    }\n",
       "\n",
       "    .dataframe tbody tr th {\n",
       "        vertical-align: top;\n",
       "    }\n",
       "\n",
       "    .dataframe thead th {\n",
       "        text-align: right;\n",
       "    }\n",
       "</style>\n",
       "<table border=\"1\" class=\"dataframe\">\n",
       "  <thead>\n",
       "    <tr style=\"text-align: right;\">\n",
       "      <th></th>\n",
       "      <th>Fruit</th>\n",
       "      <th>Form</th>\n",
       "      <th>RetailPrice</th>\n",
       "      <th>RetailPriceUnit</th>\n",
       "      <th>Yield</th>\n",
       "      <th>CupEquivalentSize</th>\n",
       "      <th>CupEquivalentUnit</th>\n",
       "      <th>CupEquivalentPrice</th>\n",
       "    </tr>\n",
       "  </thead>\n",
       "  <tbody>\n",
       "    <tr>\n",
       "      <th>57</th>\n",
       "      <td>Raspberries</td>\n",
       "      <td>Fresh</td>\n",
       "      <td>6.6391</td>\n",
       "      <td>per pound</td>\n",
       "      <td>0.96</td>\n",
       "      <td>0.3197</td>\n",
       "      <td>pounds</td>\n",
       "      <td>2.2107</td>\n",
       "    </tr>\n",
       "  </tbody>\n",
       "</table>\n",
       "</div>"
      ],
      "text/plain": [
       "          Fruit   Form  RetailPrice RetailPriceUnit  Yield  CupEquivalentSize  \\\n",
       "57  Raspberries  Fresh       6.6391       per pound   0.96             0.3197   \n",
       "\n",
       "   CupEquivalentUnit  CupEquivalentPrice  \n",
       "57            pounds              2.2107  "
      ]
     },
     "execution_count": 12,
     "metadata": {},
     "output_type": "execute_result"
    }
   ],
   "source": [
    "expensive_fresh = fresh[fresh['RetailPrice']==6.6391]\n",
    "expensive_fresh"
   ]
  },
  {
   "cell_type": "code",
   "execution_count": 13,
   "metadata": {},
   "outputs": [
    {
     "data": {
      "text/plain": [
       "2.08"
      ]
     },
     "execution_count": 13,
     "metadata": {},
     "output_type": "execute_result"
    }
   ],
   "source": [
    "average_fresh = fresh['RetailPrice'].mean()\n",
    "average_fresh.round(2)"
   ]
  },
  {
   "cell_type": "code",
   "execution_count": 14,
   "metadata": {},
   "outputs": [
    {
     "data": {
      "text/plain": [
       "array(['Fresh', 'Canned', 'Juice', 'Dried', 'Frozen'], dtype=object)"
      ]
     },
     "execution_count": 14,
     "metadata": {},
     "output_type": "execute_result"
    }
   ],
   "source": [
    "categories_form = df['Form'].unique()\n",
    "categories_form"
   ]
  },
  {
   "cell_type": "code",
   "execution_count": 15,
   "metadata": {},
   "outputs": [
    {
     "data": {
      "text/html": [
       "<div>\n",
       "<style scoped>\n",
       "    .dataframe tbody tr th:only-of-type {\n",
       "        vertical-align: middle;\n",
       "    }\n",
       "\n",
       "    .dataframe tbody tr th {\n",
       "        vertical-align: top;\n",
       "    }\n",
       "\n",
       "    .dataframe thead th {\n",
       "        text-align: right;\n",
       "    }\n",
       "</style>\n",
       "<table border=\"1\" class=\"dataframe\">\n",
       "  <thead>\n",
       "    <tr style=\"text-align: right;\">\n",
       "      <th></th>\n",
       "      <th>Fruit</th>\n",
       "      <th>Form</th>\n",
       "      <th>RetailPrice</th>\n",
       "      <th>RetailPriceUnit</th>\n",
       "      <th>Yield</th>\n",
       "      <th>CupEquivalentSize</th>\n",
       "      <th>CupEquivalentUnit</th>\n",
       "      <th>CupEquivalentPrice</th>\n",
       "    </tr>\n",
       "  </thead>\n",
       "  <tbody>\n",
       "    <tr>\n",
       "      <th>1</th>\n",
       "      <td>Apples, applesauce</td>\n",
       "      <td>Canned</td>\n",
       "      <td>1.0660</td>\n",
       "      <td>per pound</td>\n",
       "      <td>1.00</td>\n",
       "      <td>0.5401</td>\n",
       "      <td>pounds</td>\n",
       "      <td>0.5758</td>\n",
       "    </tr>\n",
       "    <tr>\n",
       "      <th>5</th>\n",
       "      <td>Apricots, packed in juice</td>\n",
       "      <td>Canned</td>\n",
       "      <td>1.6905</td>\n",
       "      <td>per pound</td>\n",
       "      <td>1.00</td>\n",
       "      <td>0.5401</td>\n",
       "      <td>pounds</td>\n",
       "      <td>0.9131</td>\n",
       "    </tr>\n",
       "    <tr>\n",
       "      <th>6</th>\n",
       "      <td>Apricots, packed in syrup or water</td>\n",
       "      <td>Canned</td>\n",
       "      <td>2.0600</td>\n",
       "      <td>per pound</td>\n",
       "      <td>0.65</td>\n",
       "      <td>0.4409</td>\n",
       "      <td>pounds</td>\n",
       "      <td>1.3974</td>\n",
       "    </tr>\n",
       "    <tr>\n",
       "      <th>16</th>\n",
       "      <td>Cherries, packed in syrup or water</td>\n",
       "      <td>Canned</td>\n",
       "      <td>4.5257</td>\n",
       "      <td>per pound</td>\n",
       "      <td>0.65</td>\n",
       "      <td>0.4409</td>\n",
       "      <td>pounds</td>\n",
       "      <td>3.0700</td>\n",
       "    </tr>\n",
       "    <tr>\n",
       "      <th>21</th>\n",
       "      <td>Fruit cocktail, packed in juice</td>\n",
       "      <td>Canned</td>\n",
       "      <td>1.7198</td>\n",
       "      <td>per pound</td>\n",
       "      <td>1.00</td>\n",
       "      <td>0.5401</td>\n",
       "      <td>pounds</td>\n",
       "      <td>0.9289</td>\n",
       "    </tr>\n",
       "    <tr>\n",
       "      <th>22</th>\n",
       "      <td>Fruit cocktail, packed in syrup or water</td>\n",
       "      <td>Canned</td>\n",
       "      <td>1.5932</td>\n",
       "      <td>per pound</td>\n",
       "      <td>0.65</td>\n",
       "      <td>0.4409</td>\n",
       "      <td>pounds</td>\n",
       "      <td>1.0808</td>\n",
       "    </tr>\n",
       "    <tr>\n",
       "      <th>40</th>\n",
       "      <td>Peaches, packed in juice</td>\n",
       "      <td>Canned</td>\n",
       "      <td>2.0237</td>\n",
       "      <td>per pound</td>\n",
       "      <td>1.00</td>\n",
       "      <td>0.5401</td>\n",
       "      <td>pounds</td>\n",
       "      <td>1.0931</td>\n",
       "    </tr>\n",
       "    <tr>\n",
       "      <th>41</th>\n",
       "      <td>Peaches, packed in syrup or water</td>\n",
       "      <td>Canned</td>\n",
       "      <td>1.8117</td>\n",
       "      <td>per pound</td>\n",
       "      <td>0.65</td>\n",
       "      <td>0.4409</td>\n",
       "      <td>pounds</td>\n",
       "      <td>1.2290</td>\n",
       "    </tr>\n",
       "    <tr>\n",
       "      <th>44</th>\n",
       "      <td>Pears, packed in juice</td>\n",
       "      <td>Canned</td>\n",
       "      <td>1.9546</td>\n",
       "      <td>per pound</td>\n",
       "      <td>1.00</td>\n",
       "      <td>0.5401</td>\n",
       "      <td>pounds</td>\n",
       "      <td>1.0557</td>\n",
       "    </tr>\n",
       "    <tr>\n",
       "      <th>45</th>\n",
       "      <td>Pears, packed in syrup or water</td>\n",
       "      <td>Canned</td>\n",
       "      <td>1.8970</td>\n",
       "      <td>per pound</td>\n",
       "      <td>0.65</td>\n",
       "      <td>0.4409</td>\n",
       "      <td>pounds</td>\n",
       "      <td>1.2868</td>\n",
       "    </tr>\n",
       "    <tr>\n",
       "      <th>47</th>\n",
       "      <td>Pineapple, packed in juice</td>\n",
       "      <td>Canned</td>\n",
       "      <td>1.4344</td>\n",
       "      <td>per pound</td>\n",
       "      <td>1.00</td>\n",
       "      <td>0.5401</td>\n",
       "      <td>pounds</td>\n",
       "      <td>0.7748</td>\n",
       "    </tr>\n",
       "    <tr>\n",
       "      <th>48</th>\n",
       "      <td>Pineapple, packed in syrup or water</td>\n",
       "      <td>Canned</td>\n",
       "      <td>1.4067</td>\n",
       "      <td>per pound</td>\n",
       "      <td>0.65</td>\n",
       "      <td>0.4409</td>\n",
       "      <td>pounds</td>\n",
       "      <td>0.9543</td>\n",
       "    </tr>\n",
       "  </tbody>\n",
       "</table>\n",
       "</div>"
      ],
      "text/plain": [
       "                                       Fruit    Form  RetailPrice  \\\n",
       "1                         Apples, applesauce  Canned       1.0660   \n",
       "5                  Apricots, packed in juice  Canned       1.6905   \n",
       "6         Apricots, packed in syrup or water  Canned       2.0600   \n",
       "16        Cherries, packed in syrup or water  Canned       4.5257   \n",
       "21           Fruit cocktail, packed in juice  Canned       1.7198   \n",
       "22  Fruit cocktail, packed in syrup or water  Canned       1.5932   \n",
       "40                  Peaches, packed in juice  Canned       2.0237   \n",
       "41         Peaches, packed in syrup or water  Canned       1.8117   \n",
       "44                    Pears, packed in juice  Canned       1.9546   \n",
       "45           Pears, packed in syrup or water  Canned       1.8970   \n",
       "47                Pineapple, packed in juice  Canned       1.4344   \n",
       "48       Pineapple, packed in syrup or water  Canned       1.4067   \n",
       "\n",
       "   RetailPriceUnit  Yield  CupEquivalentSize CupEquivalentUnit  \\\n",
       "1        per pound   1.00             0.5401            pounds   \n",
       "5        per pound   1.00             0.5401            pounds   \n",
       "6        per pound   0.65             0.4409            pounds   \n",
       "16       per pound   0.65             0.4409            pounds   \n",
       "21       per pound   1.00             0.5401            pounds   \n",
       "22       per pound   0.65             0.4409            pounds   \n",
       "40       per pound   1.00             0.5401            pounds   \n",
       "41       per pound   0.65             0.4409            pounds   \n",
       "44       per pound   1.00             0.5401            pounds   \n",
       "45       per pound   0.65             0.4409            pounds   \n",
       "47       per pound   1.00             0.5401            pounds   \n",
       "48       per pound   0.65             0.4409            pounds   \n",
       "\n",
       "    CupEquivalentPrice  \n",
       "1               0.5758  \n",
       "5               0.9131  \n",
       "6               1.3974  \n",
       "16              3.0700  \n",
       "21              0.9289  \n",
       "22              1.0808  \n",
       "40              1.0931  \n",
       "41              1.2290  \n",
       "44              1.0557  \n",
       "45              1.2868  \n",
       "47              0.7748  \n",
       "48              0.9543  "
      ]
     },
     "execution_count": 15,
     "metadata": {},
     "output_type": "execute_result"
    }
   ],
   "source": [
    "canned = df[df['Form'] == 'Canned']\n",
    "canned"
   ]
  },
  {
   "cell_type": "code",
   "execution_count": 16,
   "metadata": {},
   "outputs": [
    {
     "data": {
      "text/plain": [
       "(12, 8)"
      ]
     },
     "execution_count": 16,
     "metadata": {},
     "output_type": "execute_result"
    }
   ],
   "source": [
    "canned.shape"
   ]
  },
  {
   "cell_type": "code",
   "execution_count": 17,
   "metadata": {},
   "outputs": [
    {
     "name": "stderr",
     "output_type": "stream",
     "text": [
      "c:\\Users\\steph\\AppData\\Local\\Programs\\Python\\Python311\\Lib\\site-packages\\seaborn\\axisgrid.py:123: UserWarning: The figure layout has changed to tight\n",
      "  self._figure.tight_layout(*args, **kwargs)\n"
     ]
    },
    {
     "data": {
      "image/png": "[encoded data removed]",
      "text/plain": [
       "<Figure size 500x500 with 1 Axes>"
      ]
     },
     "metadata": {},
     "output_type": "display_data"
    }
   ],
   "source": [
    "sns.catplot(x=canned['Fruit'], y= canned['RetailPrice'], kind='bar')\n",
    "plt.xticks(rotation=90)\n",
    "plt.ylabel('Retail Price')\n",
    "plt.title('Canned Fruit VS Retail Price')\n",
    "plt.show()"
   ]
  },
  {
   "cell_type": "code",
   "execution_count": 18,
   "metadata": {},
   "outputs": [
    {
     "data": {
      "text/html": [
       "<div>\n",
       "<style scoped>\n",
       "    .dataframe tbody tr th:only-of-type {\n",
       "        vertical-align: middle;\n",
       "    }\n",
       "\n",
       "    .dataframe tbody tr th {\n",
       "        vertical-align: top;\n",
       "    }\n",
       "\n",
       "    .dataframe thead th {\n",
       "        text-align: right;\n",
       "    }\n",
       "</style>\n",
       "<table border=\"1\" class=\"dataframe\">\n",
       "  <thead>\n",
       "    <tr style=\"text-align: right;\">\n",
       "      <th></th>\n",
       "      <th>Fruit</th>\n",
       "      <th>Form</th>\n",
       "      <th>RetailPrice</th>\n",
       "      <th>RetailPriceUnit</th>\n",
       "      <th>Yield</th>\n",
       "      <th>CupEquivalentSize</th>\n",
       "      <th>CupEquivalentUnit</th>\n",
       "      <th>CupEquivalentPrice</th>\n",
       "    </tr>\n",
       "  </thead>\n",
       "  <tbody>\n",
       "    <tr>\n",
       "      <th>1</th>\n",
       "      <td>Apples, applesauce</td>\n",
       "      <td>Canned</td>\n",
       "      <td>1.066</td>\n",
       "      <td>per pound</td>\n",
       "      <td>1.0</td>\n",
       "      <td>0.5401</td>\n",
       "      <td>pounds</td>\n",
       "      <td>0.5758</td>\n",
       "    </tr>\n",
       "  </tbody>\n",
       "</table>\n",
       "</div>"
      ],
      "text/plain": [
       "                Fruit    Form  RetailPrice RetailPriceUnit  Yield  \\\n",
       "1  Apples, applesauce  Canned        1.066       per pound    1.0   \n",
       "\n",
       "   CupEquivalentSize CupEquivalentUnit  CupEquivalentPrice  \n",
       "1             0.5401            pounds              0.5758  "
      ]
     },
     "execution_count": 18,
     "metadata": {},
     "output_type": "execute_result"
    }
   ],
   "source": [
    "cheapest_canned = canned['RetailPrice'].min()\n",
    "cheapest_canned = canned[canned['RetailPrice']==cheapest_canned]\n",
    "cheapest_canned"
   ]
  },
  {
   "cell_type": "code",
   "execution_count": 19,
   "metadata": {},
   "outputs": [
    {
     "data": {
      "text/html": [
       "<div>\n",
       "<style scoped>\n",
       "    .dataframe tbody tr th:only-of-type {\n",
       "        vertical-align: middle;\n",
       "    }\n",
       "\n",
       "    .dataframe tbody tr th {\n",
       "        vertical-align: top;\n",
       "    }\n",
       "\n",
       "    .dataframe thead th {\n",
       "        text-align: right;\n",
       "    }\n",
       "</style>\n",
       "<table border=\"1\" class=\"dataframe\">\n",
       "  <thead>\n",
       "    <tr style=\"text-align: right;\">\n",
       "      <th></th>\n",
       "      <th>Fruit</th>\n",
       "      <th>Form</th>\n",
       "      <th>RetailPrice</th>\n",
       "      <th>RetailPriceUnit</th>\n",
       "      <th>Yield</th>\n",
       "      <th>CupEquivalentSize</th>\n",
       "      <th>CupEquivalentUnit</th>\n",
       "      <th>CupEquivalentPrice</th>\n",
       "    </tr>\n",
       "  </thead>\n",
       "  <tbody>\n",
       "    <tr>\n",
       "      <th>16</th>\n",
       "      <td>Cherries, packed in syrup or water</td>\n",
       "      <td>Canned</td>\n",
       "      <td>4.5257</td>\n",
       "      <td>per pound</td>\n",
       "      <td>0.65</td>\n",
       "      <td>0.4409</td>\n",
       "      <td>pounds</td>\n",
       "      <td>3.07</td>\n",
       "    </tr>\n",
       "  </tbody>\n",
       "</table>\n",
       "</div>"
      ],
      "text/plain": [
       "                                 Fruit    Form  RetailPrice RetailPriceUnit  \\\n",
       "16  Cherries, packed in syrup or water  Canned       4.5257       per pound   \n",
       "\n",
       "    Yield  CupEquivalentSize CupEquivalentUnit  CupEquivalentPrice  \n",
       "16   0.65             0.4409            pounds                3.07  "
      ]
     },
     "execution_count": 19,
     "metadata": {},
     "output_type": "execute_result"
    }
   ],
   "source": [
    "expensive_canned = canned['RetailPrice'].max()\n",
    "expensive_canned = canned[canned['RetailPrice']==expensive_canned]\n",
    "expensive_canned"
   ]
  },
  {
   "cell_type": "code",
   "execution_count": 20,
   "metadata": {},
   "outputs": [
    {
     "data": {
      "text/plain": [
       "1.93"
      ]
     },
     "execution_count": 20,
     "metadata": {},
     "output_type": "execute_result"
    }
   ],
   "source": [
    "average_canned = canned['RetailPrice'].mean()\n",
    "average_canned.round(2)"
   ]
  },
  {
   "cell_type": "code",
   "execution_count": 21,
   "metadata": {},
   "outputs": [
    {
     "data": {
      "text/plain": [
       "array(['Fresh', 'Canned', 'Juice', 'Dried', 'Frozen'], dtype=object)"
      ]
     },
     "execution_count": 21,
     "metadata": {},
     "output_type": "execute_result"
    }
   ],
   "source": [
    "categories_form"
   ]
  },
  {
   "cell_type": "code",
   "execution_count": 22,
   "metadata": {},
   "outputs": [
    {
     "data": {
      "text/html": [
       "<div>\n",
       "<style scoped>\n",
       "    .dataframe tbody tr th:only-of-type {\n",
       "        vertical-align: middle;\n",
       "    }\n",
       "\n",
       "    .dataframe tbody tr th {\n",
       "        vertical-align: top;\n",
       "    }\n",
       "\n",
       "    .dataframe thead th {\n",
       "        text-align: right;\n",
       "    }\n",
       "</style>\n",
       "<table border=\"1\" class=\"dataframe\">\n",
       "  <thead>\n",
       "    <tr style=\"text-align: right;\">\n",
       "      <th></th>\n",
       "      <th>Fruit</th>\n",
       "      <th>Form</th>\n",
       "      <th>RetailPrice</th>\n",
       "      <th>RetailPriceUnit</th>\n",
       "      <th>Yield</th>\n",
       "      <th>CupEquivalentSize</th>\n",
       "      <th>CupEquivalentUnit</th>\n",
       "      <th>CupEquivalentPrice</th>\n",
       "    </tr>\n",
       "  </thead>\n",
       "  <tbody>\n",
       "    <tr>\n",
       "      <th>2</th>\n",
       "      <td>Apples, ready-to-drink</td>\n",
       "      <td>Juice</td>\n",
       "      <td>0.7804</td>\n",
       "      <td>per pint</td>\n",
       "      <td>1.0</td>\n",
       "      <td>8.0</td>\n",
       "      <td>fluid ounces</td>\n",
       "      <td>0.3902</td>\n",
       "    </tr>\n",
       "    <tr>\n",
       "      <th>3</th>\n",
       "      <td>Apples, frozen concentrate</td>\n",
       "      <td>Juice</td>\n",
       "      <td>0.5853</td>\n",
       "      <td>per pint</td>\n",
       "      <td>1.0</td>\n",
       "      <td>8.0</td>\n",
       "      <td>fluid ounces</td>\n",
       "      <td>0.2926</td>\n",
       "    </tr>\n",
       "    <tr>\n",
       "      <th>24</th>\n",
       "      <td>Grapefruit, ready-to-drink</td>\n",
       "      <td>Juice</td>\n",
       "      <td>1.0415</td>\n",
       "      <td>per pint</td>\n",
       "      <td>1.0</td>\n",
       "      <td>8.0</td>\n",
       "      <td>fluid ounces</td>\n",
       "      <td>0.5208</td>\n",
       "    </tr>\n",
       "    <tr>\n",
       "      <th>27</th>\n",
       "      <td>Grapes, ready-to-drink</td>\n",
       "      <td>Juice</td>\n",
       "      <td>0.9215</td>\n",
       "      <td>per pint</td>\n",
       "      <td>1.0</td>\n",
       "      <td>8.0</td>\n",
       "      <td>fluid ounces</td>\n",
       "      <td>0.4607</td>\n",
       "    </tr>\n",
       "    <tr>\n",
       "      <th>28</th>\n",
       "      <td>Grapes, frozen concentrate</td>\n",
       "      <td>Juice</td>\n",
       "      <td>0.7119</td>\n",
       "      <td>per pint</td>\n",
       "      <td>1.0</td>\n",
       "      <td>8.0</td>\n",
       "      <td>fluid ounces</td>\n",
       "      <td>0.3559</td>\n",
       "    </tr>\n",
       "    <tr>\n",
       "      <th>35</th>\n",
       "      <td>Oranges, ready-to-drink</td>\n",
       "      <td>Juice</td>\n",
       "      <td>0.9842</td>\n",
       "      <td>per pint</td>\n",
       "      <td>1.0</td>\n",
       "      <td>8.0</td>\n",
       "      <td>fluid ounces</td>\n",
       "      <td>0.4921</td>\n",
       "    </tr>\n",
       "    <tr>\n",
       "      <th>36</th>\n",
       "      <td>Oranges, frozen concentrate</td>\n",
       "      <td>Juice</td>\n",
       "      <td>0.7690</td>\n",
       "      <td>per pint</td>\n",
       "      <td>1.0</td>\n",
       "      <td>8.0</td>\n",
       "      <td>fluid ounces</td>\n",
       "      <td>0.3845</td>\n",
       "    </tr>\n",
       "    <tr>\n",
       "      <th>50</th>\n",
       "      <td>Pineapple, ready-to-drink</td>\n",
       "      <td>Juice</td>\n",
       "      <td>1.0288</td>\n",
       "      <td>per pint</td>\n",
       "      <td>1.0</td>\n",
       "      <td>8.0</td>\n",
       "      <td>fluid ounces</td>\n",
       "      <td>0.5144</td>\n",
       "    </tr>\n",
       "    <tr>\n",
       "      <th>51</th>\n",
       "      <td>Pineapple, frozen concentrate</td>\n",
       "      <td>Juice</td>\n",
       "      <td>0.6973</td>\n",
       "      <td>per pint</td>\n",
       "      <td>1.0</td>\n",
       "      <td>8.0</td>\n",
       "      <td>fluid ounces</td>\n",
       "      <td>0.3486</td>\n",
       "    </tr>\n",
       "    <tr>\n",
       "      <th>54</th>\n",
       "      <td>Plum (prune), ready-to-drink</td>\n",
       "      <td>Juice</td>\n",
       "      <td>1.5522</td>\n",
       "      <td>per pint</td>\n",
       "      <td>1.0</td>\n",
       "      <td>8.0</td>\n",
       "      <td>fluid ounces</td>\n",
       "      <td>0.7761</td>\n",
       "    </tr>\n",
       "    <tr>\n",
       "      <th>56</th>\n",
       "      <td>Pomegranate, ready-to-drink</td>\n",
       "      <td>Juice</td>\n",
       "      <td>3.1220</td>\n",
       "      <td>per pint</td>\n",
       "      <td>1.0</td>\n",
       "      <td>8.0</td>\n",
       "      <td>fluid ounces</td>\n",
       "      <td>1.5610</td>\n",
       "    </tr>\n",
       "  </tbody>\n",
       "</table>\n",
       "</div>"
      ],
      "text/plain": [
       "                            Fruit   Form  RetailPrice RetailPriceUnit  Yield  \\\n",
       "2          Apples, ready-to-drink  Juice       0.7804        per pint    1.0   \n",
       "3      Apples, frozen concentrate  Juice       0.5853        per pint    1.0   \n",
       "24     Grapefruit, ready-to-drink  Juice       1.0415        per pint    1.0   \n",
       "27         Grapes, ready-to-drink  Juice       0.9215        per pint    1.0   \n",
       "28     Grapes, frozen concentrate  Juice       0.7119        per pint    1.0   \n",
       "35        Oranges, ready-to-drink  Juice       0.9842        per pint    1.0   \n",
       "36    Oranges, frozen concentrate  Juice       0.7690        per pint    1.0   \n",
       "50      Pineapple, ready-to-drink  Juice       1.0288        per pint    1.0   \n",
       "51  Pineapple, frozen concentrate  Juice       0.6973        per pint    1.0   \n",
       "54   Plum (prune), ready-to-drink  Juice       1.5522        per pint    1.0   \n",
       "56    Pomegranate, ready-to-drink  Juice       3.1220        per pint    1.0   \n",
       "\n",
       "    CupEquivalentSize CupEquivalentUnit  CupEquivalentPrice  \n",
       "2                 8.0      fluid ounces              0.3902  \n",
       "3                 8.0      fluid ounces              0.2926  \n",
       "24                8.0      fluid ounces              0.5208  \n",
       "27                8.0      fluid ounces              0.4607  \n",
       "28                8.0      fluid ounces              0.3559  \n",
       "35                8.0      fluid ounces              0.4921  \n",
       "36                8.0      fluid ounces              0.3845  \n",
       "50                8.0      fluid ounces              0.5144  \n",
       "51                8.0      fluid ounces              0.3486  \n",
       "54                8.0      fluid ounces              0.7761  \n",
       "56                8.0      fluid ounces              1.5610  "
      ]
     },
     "execution_count": 22,
     "metadata": {},
     "output_type": "execute_result"
    }
   ],
   "source": [
    "juice = df[df['Form'] == 'Juice']\n",
    "juice"
   ]
  },
  {
   "cell_type": "code",
   "execution_count": 23,
   "metadata": {},
   "outputs": [
    {
     "name": "stderr",
     "output_type": "stream",
     "text": [
      "c:\\Users\\steph\\AppData\\Local\\Programs\\Python\\Python311\\Lib\\site-packages\\seaborn\\axisgrid.py:123: UserWarning: The figure layout has changed to tight\n",
      "  self._figure.tight_layout(*args, **kwargs)\n"
     ]
    },
    {
     "data": {
      "text/plain": [
       "Text(0.5, 1.0, 'Juice Fruit VS Retail Price')"
      ]
     },
     "execution_count": 23,
     "metadata": {},
     "output_type": "execute_result"
    },
    {
     "data": {
      "image/png": "[encoded data removed]",
      "text/plain": [
       "<Figure size 500x500 with 1 Axes>"
      ]
     },
     "metadata": {},
     "output_type": "display_data"
    }
   ],
   "source": [
    "sns.catplot(x=canned['Fruit'], y=canned['RetailPrice'], kind='bar')\n",
    "plt.xticks(rotation = 90)\n",
    "plt.ylabel('Retail Price')\n",
    "plt.title('Juice Fruit VS Retail Price')"
   ]
  },
  {
   "cell_type": "code",
   "execution_count": 24,
   "metadata": {},
   "outputs": [
    {
     "data": {
      "text/html": [
       "<div>\n",
       "<style scoped>\n",
       "    .dataframe tbody tr th:only-of-type {\n",
       "        vertical-align: middle;\n",
       "    }\n",
       "\n",
       "    .dataframe tbody tr th {\n",
       "        vertical-align: top;\n",
       "    }\n",
       "\n",
       "    .dataframe thead th {\n",
       "        text-align: right;\n",
       "    }\n",
       "</style>\n",
       "<table border=\"1\" class=\"dataframe\">\n",
       "  <thead>\n",
       "    <tr style=\"text-align: right;\">\n",
       "      <th></th>\n",
       "      <th>Fruit</th>\n",
       "      <th>Form</th>\n",
       "      <th>RetailPrice</th>\n",
       "      <th>RetailPriceUnit</th>\n",
       "      <th>Yield</th>\n",
       "      <th>CupEquivalentSize</th>\n",
       "      <th>CupEquivalentUnit</th>\n",
       "      <th>CupEquivalentPrice</th>\n",
       "    </tr>\n",
       "  </thead>\n",
       "  <tbody>\n",
       "    <tr>\n",
       "      <th>3</th>\n",
       "      <td>Apples, frozen concentrate</td>\n",
       "      <td>Juice</td>\n",
       "      <td>0.5853</td>\n",
       "      <td>per pint</td>\n",
       "      <td>1.0</td>\n",
       "      <td>8.0</td>\n",
       "      <td>fluid ounces</td>\n",
       "      <td>0.2926</td>\n",
       "    </tr>\n",
       "  </tbody>\n",
       "</table>\n",
       "</div>"
      ],
      "text/plain": [
       "                        Fruit   Form  RetailPrice RetailPriceUnit  Yield  \\\n",
       "3  Apples, frozen concentrate  Juice       0.5853        per pint    1.0   \n",
       "\n",
       "   CupEquivalentSize CupEquivalentUnit  CupEquivalentPrice  \n",
       "3                8.0      fluid ounces              0.2926  "
      ]
     },
     "execution_count": 24,
     "metadata": {},
     "output_type": "execute_result"
    }
   ],
   "source": [
    "cheapest_juice = juice['RetailPrice'].min()\n",
    "cheapest_juice = juice[juice['RetailPrice']==cheapest_juice]\n",
    "cheapest_juice"
   ]
  },
  {
   "cell_type": "code",
   "execution_count": 25,
   "metadata": {},
   "outputs": [
    {
     "data": {
      "text/html": [
       "<div>\n",
       "<style scoped>\n",
       "    .dataframe tbody tr th:only-of-type {\n",
       "        vertical-align: middle;\n",
       "    }\n",
       "\n",
       "    .dataframe tbody tr th {\n",
       "        vertical-align: top;\n",
       "    }\n",
       "\n",
       "    .dataframe thead th {\n",
       "        text-align: right;\n",
       "    }\n",
       "</style>\n",
       "<table border=\"1\" class=\"dataframe\">\n",
       "  <thead>\n",
       "    <tr style=\"text-align: right;\">\n",
       "      <th></th>\n",
       "      <th>Fruit</th>\n",
       "      <th>Form</th>\n",
       "      <th>RetailPrice</th>\n",
       "      <th>RetailPriceUnit</th>\n",
       "      <th>Yield</th>\n",
       "      <th>CupEquivalentSize</th>\n",
       "      <th>CupEquivalentUnit</th>\n",
       "      <th>CupEquivalentPrice</th>\n",
       "    </tr>\n",
       "  </thead>\n",
       "  <tbody>\n",
       "    <tr>\n",
       "      <th>56</th>\n",
       "      <td>Pomegranate, ready-to-drink</td>\n",
       "      <td>Juice</td>\n",
       "      <td>3.122</td>\n",
       "      <td>per pint</td>\n",
       "      <td>1.0</td>\n",
       "      <td>8.0</td>\n",
       "      <td>fluid ounces</td>\n",
       "      <td>1.561</td>\n",
       "    </tr>\n",
       "  </tbody>\n",
       "</table>\n",
       "</div>"
      ],
      "text/plain": [
       "                          Fruit   Form  RetailPrice RetailPriceUnit  Yield  \\\n",
       "56  Pomegranate, ready-to-drink  Juice        3.122        per pint    1.0   \n",
       "\n",
       "    CupEquivalentSize CupEquivalentUnit  CupEquivalentPrice  \n",
       "56                8.0      fluid ounces               1.561  "
      ]
     },
     "execution_count": 25,
     "metadata": {},
     "output_type": "execute_result"
    }
   ],
   "source": [
    "expensive_juice = juice['RetailPrice'].max()\n",
    "expensive_juice = juice[juice['RetailPrice'] == expensive_juice]\n",
    "expensive_juice"
   ]
  },
  {
   "cell_type": "code",
   "execution_count": 26,
   "metadata": {},
   "outputs": [
    {
     "data": {
      "text/plain": [
       "1.1085545454545453"
      ]
     },
     "execution_count": 26,
     "metadata": {},
     "output_type": "execute_result"
    }
   ],
   "source": [
    "average_juice = juice['RetailPrice'].mean()\n",
    "average_juice"
   ]
  },
  {
   "cell_type": "code",
   "execution_count": 27,
   "metadata": {},
   "outputs": [
    {
     "data": {
      "text/plain": [
       "array(['Fresh', 'Canned', 'Juice', 'Dried', 'Frozen'], dtype=object)"
      ]
     },
     "execution_count": 27,
     "metadata": {},
     "output_type": "execute_result"
    }
   ],
   "source": [
    "categories_form"
   ]
  },
  {
   "cell_type": "code",
   "execution_count": 28,
   "metadata": {},
   "outputs": [
    {
     "data": {
      "text/html": [
       "<div>\n",
       "<style scoped>\n",
       "    .dataframe tbody tr th:only-of-type {\n",
       "        vertical-align: middle;\n",
       "    }\n",
       "\n",
       "    .dataframe tbody tr th {\n",
       "        vertical-align: top;\n",
       "    }\n",
       "\n",
       "    .dataframe thead th {\n",
       "        text-align: right;\n",
       "    }\n",
       "</style>\n",
       "<table border=\"1\" class=\"dataframe\">\n",
       "  <thead>\n",
       "    <tr style=\"text-align: right;\">\n",
       "      <th></th>\n",
       "      <th>Fruit</th>\n",
       "      <th>Form</th>\n",
       "      <th>RetailPrice</th>\n",
       "      <th>RetailPriceUnit</th>\n",
       "      <th>Yield</th>\n",
       "      <th>CupEquivalentSize</th>\n",
       "      <th>CupEquivalentUnit</th>\n",
       "      <th>CupEquivalentPrice</th>\n",
       "    </tr>\n",
       "  </thead>\n",
       "  <tbody>\n",
       "    <tr>\n",
       "      <th>7</th>\n",
       "      <td>Apricots</td>\n",
       "      <td>Dried</td>\n",
       "      <td>6.6188</td>\n",
       "      <td>per pound</td>\n",
       "      <td>1.00</td>\n",
       "      <td>0.1433</td>\n",
       "      <td>pounds</td>\n",
       "      <td>0.9485</td>\n",
       "    </tr>\n",
       "    <tr>\n",
       "      <th>18</th>\n",
       "      <td>Cranberries</td>\n",
       "      <td>Dried</td>\n",
       "      <td>4.6513</td>\n",
       "      <td>per pound</td>\n",
       "      <td>1.00</td>\n",
       "      <td>0.1232</td>\n",
       "      <td>pounds</td>\n",
       "      <td>0.5729</td>\n",
       "    </tr>\n",
       "    <tr>\n",
       "      <th>19</th>\n",
       "      <td>Dates</td>\n",
       "      <td>Dried</td>\n",
       "      <td>5.5713</td>\n",
       "      <td>per pound</td>\n",
       "      <td>1.00</td>\n",
       "      <td>0.1653</td>\n",
       "      <td>pounds</td>\n",
       "      <td>0.9212</td>\n",
       "    </tr>\n",
       "    <tr>\n",
       "      <th>20</th>\n",
       "      <td>Figs</td>\n",
       "      <td>Dried</td>\n",
       "      <td>6.8371</td>\n",
       "      <td>per pound</td>\n",
       "      <td>0.96</td>\n",
       "      <td>0.1653</td>\n",
       "      <td>pounds</td>\n",
       "      <td>1.1776</td>\n",
       "    </tr>\n",
       "    <tr>\n",
       "      <th>26</th>\n",
       "      <td>Grapes (raisins)</td>\n",
       "      <td>Dried</td>\n",
       "      <td>3.7801</td>\n",
       "      <td>per pound</td>\n",
       "      <td>1.00</td>\n",
       "      <td>0.1653</td>\n",
       "      <td>pounds</td>\n",
       "      <td>0.6250</td>\n",
       "    </tr>\n",
       "    <tr>\n",
       "      <th>32</th>\n",
       "      <td>Mangoes</td>\n",
       "      <td>Dried</td>\n",
       "      <td>10.5527</td>\n",
       "      <td>per pound</td>\n",
       "      <td>1.00</td>\n",
       "      <td>0.1253</td>\n",
       "      <td>pounds</td>\n",
       "      <td>1.3219</td>\n",
       "    </tr>\n",
       "    <tr>\n",
       "      <th>38</th>\n",
       "      <td>Papaya</td>\n",
       "      <td>Dried</td>\n",
       "      <td>5.5089</td>\n",
       "      <td>per pound</td>\n",
       "      <td>1.00</td>\n",
       "      <td>0.1543</td>\n",
       "      <td>pounds</td>\n",
       "      <td>0.8502</td>\n",
       "    </tr>\n",
       "    <tr>\n",
       "      <th>49</th>\n",
       "      <td>Pineapple</td>\n",
       "      <td>Dried</td>\n",
       "      <td>6.6492</td>\n",
       "      <td>per pound</td>\n",
       "      <td>1.00</td>\n",
       "      <td>0.1543</td>\n",
       "      <td>pounds</td>\n",
       "      <td>1.0261</td>\n",
       "    </tr>\n",
       "    <tr>\n",
       "      <th>53</th>\n",
       "      <td>Plum (prunes)</td>\n",
       "      <td>Dried</td>\n",
       "      <td>5.7042</td>\n",
       "      <td>per pound</td>\n",
       "      <td>1.00</td>\n",
       "      <td>0.1874</td>\n",
       "      <td>pounds</td>\n",
       "      <td>1.0689</td>\n",
       "    </tr>\n",
       "  </tbody>\n",
       "</table>\n",
       "</div>"
      ],
      "text/plain": [
       "               Fruit   Form  RetailPrice RetailPriceUnit  Yield  \\\n",
       "7           Apricots  Dried       6.6188       per pound   1.00   \n",
       "18       Cranberries  Dried       4.6513       per pound   1.00   \n",
       "19             Dates  Dried       5.5713       per pound   1.00   \n",
       "20              Figs  Dried       6.8371       per pound   0.96   \n",
       "26  Grapes (raisins)  Dried       3.7801       per pound   1.00   \n",
       "32           Mangoes  Dried      10.5527       per pound   1.00   \n",
       "38            Papaya  Dried       5.5089       per pound   1.00   \n",
       "49         Pineapple  Dried       6.6492       per pound   1.00   \n",
       "53     Plum (prunes)  Dried       5.7042       per pound   1.00   \n",
       "\n",
       "    CupEquivalentSize CupEquivalentUnit  CupEquivalentPrice  \n",
       "7              0.1433            pounds              0.9485  \n",
       "18             0.1232            pounds              0.5729  \n",
       "19             0.1653            pounds              0.9212  \n",
       "20             0.1653            pounds              1.1776  \n",
       "26             0.1653            pounds              0.6250  \n",
       "32             0.1253            pounds              1.3219  \n",
       "38             0.1543            pounds              0.8502  \n",
       "49             0.1543            pounds              1.0261  \n",
       "53             0.1874            pounds              1.0689  "
      ]
     },
     "execution_count": 28,
     "metadata": {},
     "output_type": "execute_result"
    }
   ],
   "source": [
    "dried = df[df['Form'] == 'Dried']\n",
    "dried"
   ]
  },
  {
   "cell_type": "code",
   "execution_count": 29,
   "metadata": {},
   "outputs": [
    {
     "data": {
      "text/plain": [
       "(9, 8)"
      ]
     },
     "execution_count": 29,
     "metadata": {},
     "output_type": "execute_result"
    }
   ],
   "source": [
    "dried.shape"
   ]
  },
  {
   "cell_type": "code",
   "execution_count": 30,
   "metadata": {},
   "outputs": [
    {
     "name": "stderr",
     "output_type": "stream",
     "text": [
      "c:\\Users\\steph\\AppData\\Local\\Programs\\Python\\Python311\\Lib\\site-packages\\seaborn\\axisgrid.py:123: UserWarning: The figure layout has changed to tight\n",
      "  self._figure.tight_layout(*args, **kwargs)\n"
     ]
    },
    {
     "data": {
      "image/png": "[encoded data removed]",
      "text/plain": [
       "<Figure size 500x500 with 1 Axes>"
      ]
     },
     "metadata": {},
     "output_type": "display_data"
    }
   ],
   "source": [
    "sns.catplot(x=dried['Fruit'], y=dried['RetailPrice'], kind='bar')\n",
    "plt.xticks(rotation=90)\n",
    "plt.ylabel('Retail Price')\n",
    "plt.title('Dried Fruit VS Retail Price')\n",
    "plt.show()"
   ]
  },
  {
   "cell_type": "code",
   "execution_count": 31,
   "metadata": {},
   "outputs": [
    {
     "data": {
      "text/html": [
       "<div>\n",
       "<style scoped>\n",
       "    .dataframe tbody tr th:only-of-type {\n",
       "        vertical-align: middle;\n",
       "    }\n",
       "\n",
       "    .dataframe tbody tr th {\n",
       "        vertical-align: top;\n",
       "    }\n",
       "\n",
       "    .dataframe thead th {\n",
       "        text-align: right;\n",
       "    }\n",
       "</style>\n",
       "<table border=\"1\" class=\"dataframe\">\n",
       "  <thead>\n",
       "    <tr style=\"text-align: right;\">\n",
       "      <th></th>\n",
       "      <th>Fruit</th>\n",
       "      <th>Form</th>\n",
       "      <th>RetailPrice</th>\n",
       "      <th>RetailPriceUnit</th>\n",
       "      <th>Yield</th>\n",
       "      <th>CupEquivalentSize</th>\n",
       "      <th>CupEquivalentUnit</th>\n",
       "      <th>CupEquivalentPrice</th>\n",
       "    </tr>\n",
       "  </thead>\n",
       "  <tbody>\n",
       "    <tr>\n",
       "      <th>26</th>\n",
       "      <td>Grapes (raisins)</td>\n",
       "      <td>Dried</td>\n",
       "      <td>3.7801</td>\n",
       "      <td>per pound</td>\n",
       "      <td>1.0</td>\n",
       "      <td>0.1653</td>\n",
       "      <td>pounds</td>\n",
       "      <td>0.625</td>\n",
       "    </tr>\n",
       "  </tbody>\n",
       "</table>\n",
       "</div>"
      ],
      "text/plain": [
       "               Fruit   Form  RetailPrice RetailPriceUnit  Yield  \\\n",
       "26  Grapes (raisins)  Dried       3.7801       per pound    1.0   \n",
       "\n",
       "    CupEquivalentSize CupEquivalentUnit  CupEquivalentPrice  \n",
       "26             0.1653            pounds               0.625  "
      ]
     },
     "execution_count": 31,
     "metadata": {},
     "output_type": "execute_result"
    }
   ],
   "source": [
    "cheapest_dried = dried['RetailPrice'].min()\n",
    "cheapest_dried = dried[dried['RetailPrice'] == cheapest_dried]\n",
    "cheapest_dried"
   ]
  },
  {
   "cell_type": "code",
   "execution_count": 32,
   "metadata": {},
   "outputs": [
    {
     "data": {
      "text/html": [
       "<div>\n",
       "<style scoped>\n",
       "    .dataframe tbody tr th:only-of-type {\n",
       "        vertical-align: middle;\n",
       "    }\n",
       "\n",
       "    .dataframe tbody tr th {\n",
       "        vertical-align: top;\n",
       "    }\n",
       "\n",
       "    .dataframe thead th {\n",
       "        text-align: right;\n",
       "    }\n",
       "</style>\n",
       "<table border=\"1\" class=\"dataframe\">\n",
       "  <thead>\n",
       "    <tr style=\"text-align: right;\">\n",
       "      <th></th>\n",
       "      <th>Fruit</th>\n",
       "      <th>Form</th>\n",
       "      <th>RetailPrice</th>\n",
       "      <th>RetailPriceUnit</th>\n",
       "      <th>Yield</th>\n",
       "      <th>CupEquivalentSize</th>\n",
       "      <th>CupEquivalentUnit</th>\n",
       "      <th>CupEquivalentPrice</th>\n",
       "    </tr>\n",
       "  </thead>\n",
       "  <tbody>\n",
       "    <tr>\n",
       "      <th>32</th>\n",
       "      <td>Mangoes</td>\n",
       "      <td>Dried</td>\n",
       "      <td>10.5527</td>\n",
       "      <td>per pound</td>\n",
       "      <td>1.0</td>\n",
       "      <td>0.1253</td>\n",
       "      <td>pounds</td>\n",
       "      <td>1.3219</td>\n",
       "    </tr>\n",
       "  </tbody>\n",
       "</table>\n",
       "</div>"
      ],
      "text/plain": [
       "      Fruit   Form  RetailPrice RetailPriceUnit  Yield  CupEquivalentSize  \\\n",
       "32  Mangoes  Dried      10.5527       per pound    1.0             0.1253   \n",
       "\n",
       "   CupEquivalentUnit  CupEquivalentPrice  \n",
       "32            pounds              1.3219  "
      ]
     },
     "execution_count": 32,
     "metadata": {},
     "output_type": "execute_result"
    }
   ],
   "source": [
    "expensive_dried = dried['RetailPrice'].max()\n",
    "expensive_dried  = dried[dried['RetailPrice'] == expensive_dried]\n",
    "expensive_dried "
   ]
  },
  {
   "cell_type": "code",
   "execution_count": 33,
   "metadata": {},
   "outputs": [
    {
     "data": {
      "text/plain": [
       "6.208177777777777"
      ]
     },
     "execution_count": 33,
     "metadata": {},
     "output_type": "execute_result"
    }
   ],
   "source": [
    "average_dried = dried['RetailPrice'].mean()\n",
    "average_dried"
   ]
  },
  {
   "cell_type": "code",
   "execution_count": 34,
   "metadata": {},
   "outputs": [
    {
     "data": {
      "text/plain": [
       "array(['Fresh', 'Canned', 'Juice', 'Dried', 'Frozen'], dtype=object)"
      ]
     },
     "execution_count": 34,
     "metadata": {},
     "output_type": "execute_result"
    }
   ],
   "source": [
    "categories_form"
   ]
  },
  {
   "cell_type": "code",
   "execution_count": 35,
   "metadata": {},
   "outputs": [
    {
     "data": {
      "text/html": [
       "<div>\n",
       "<style scoped>\n",
       "    .dataframe tbody tr th:only-of-type {\n",
       "        vertical-align: middle;\n",
       "    }\n",
       "\n",
       "    .dataframe tbody tr th {\n",
       "        vertical-align: top;\n",
       "    }\n",
       "\n",
       "    .dataframe thead th {\n",
       "        text-align: right;\n",
       "    }\n",
       "</style>\n",
       "<table border=\"1\" class=\"dataframe\">\n",
       "  <thead>\n",
       "    <tr style=\"text-align: right;\">\n",
       "      <th></th>\n",
       "      <th>Fruit</th>\n",
       "      <th>Form</th>\n",
       "      <th>RetailPrice</th>\n",
       "      <th>RetailPriceUnit</th>\n",
       "      <th>Yield</th>\n",
       "      <th>CupEquivalentSize</th>\n",
       "      <th>CupEquivalentUnit</th>\n",
       "      <th>CupEquivalentPrice</th>\n",
       "    </tr>\n",
       "  </thead>\n",
       "  <tbody>\n",
       "    <tr>\n",
       "      <th>9</th>\n",
       "      <td>Berries, mixed</td>\n",
       "      <td>Frozen</td>\n",
       "      <td>3.5585</td>\n",
       "      <td>per pound</td>\n",
       "      <td>1.0</td>\n",
       "      <td>0.3307</td>\n",
       "      <td>pounds</td>\n",
       "      <td>1.1768</td>\n",
       "    </tr>\n",
       "    <tr>\n",
       "      <th>11</th>\n",
       "      <td>Blackberries</td>\n",
       "      <td>Frozen</td>\n",
       "      <td>3.6362</td>\n",
       "      <td>per pound</td>\n",
       "      <td>1.0</td>\n",
       "      <td>0.3307</td>\n",
       "      <td>pounds</td>\n",
       "      <td>1.2025</td>\n",
       "    </tr>\n",
       "    <tr>\n",
       "      <th>13</th>\n",
       "      <td>Blueberries</td>\n",
       "      <td>Frozen</td>\n",
       "      <td>3.3898</td>\n",
       "      <td>per pound</td>\n",
       "      <td>1.0</td>\n",
       "      <td>0.3307</td>\n",
       "      <td>pounds</td>\n",
       "      <td>1.1210</td>\n",
       "    </tr>\n",
       "    <tr>\n",
       "      <th>42</th>\n",
       "      <td>Peaches</td>\n",
       "      <td>Frozen</td>\n",
       "      <td>3.3867</td>\n",
       "      <td>per pound</td>\n",
       "      <td>1.0</td>\n",
       "      <td>0.3307</td>\n",
       "      <td>pounds</td>\n",
       "      <td>1.1200</td>\n",
       "    </tr>\n",
       "    <tr>\n",
       "      <th>58</th>\n",
       "      <td>Raspberries</td>\n",
       "      <td>Frozen</td>\n",
       "      <td>4.1877</td>\n",
       "      <td>per pound</td>\n",
       "      <td>1.0</td>\n",
       "      <td>0.3307</td>\n",
       "      <td>pounds</td>\n",
       "      <td>1.3849</td>\n",
       "    </tr>\n",
       "    <tr>\n",
       "      <th>60</th>\n",
       "      <td>Strawberries</td>\n",
       "      <td>Frozen</td>\n",
       "      <td>2.8189</td>\n",
       "      <td>per pound</td>\n",
       "      <td>1.0</td>\n",
       "      <td>0.3307</td>\n",
       "      <td>pounds</td>\n",
       "      <td>0.9322</td>\n",
       "    </tr>\n",
       "  </tbody>\n",
       "</table>\n",
       "</div>"
      ],
      "text/plain": [
       "             Fruit    Form  RetailPrice RetailPriceUnit  Yield  \\\n",
       "9   Berries, mixed  Frozen       3.5585       per pound    1.0   \n",
       "11    Blackberries  Frozen       3.6362       per pound    1.0   \n",
       "13     Blueberries  Frozen       3.3898       per pound    1.0   \n",
       "42         Peaches  Frozen       3.3867       per pound    1.0   \n",
       "58     Raspberries  Frozen       4.1877       per pound    1.0   \n",
       "60    Strawberries  Frozen       2.8189       per pound    1.0   \n",
       "\n",
       "    CupEquivalentSize CupEquivalentUnit  CupEquivalentPrice  \n",
       "9              0.3307            pounds              1.1768  \n",
       "11             0.3307            pounds              1.2025  \n",
       "13             0.3307            pounds              1.1210  \n",
       "42             0.3307            pounds              1.1200  \n",
       "58             0.3307            pounds              1.3849  \n",
       "60             0.3307            pounds              0.9322  "
      ]
     },
     "execution_count": 35,
     "metadata": {},
     "output_type": "execute_result"
    }
   ],
   "source": [
    "frozen = df[df['Form'] == 'Frozen']\n",
    "frozen"
   ]
  },
  {
   "cell_type": "code",
   "execution_count": 36,
   "metadata": {},
   "outputs": [
    {
     "name": "stderr",
     "output_type": "stream",
     "text": [
      "c:\\Users\\steph\\AppData\\Local\\Programs\\Python\\Python311\\Lib\\site-packages\\seaborn\\axisgrid.py:123: UserWarning: The figure layout has changed to tight\n",
      "  self._figure.tight_layout(*args, **kwargs)\n"
     ]
    },
    {
     "data": {
      "image/png": "[encoded data removed]",
      "text/plain": [
       "<Figure size 500x500 with 1 Axes>"
      ]
     },
     "metadata": {},
     "output_type": "display_data"
    }
   ],
   "source": [
    "sns.catplot(x=frozen['Fruit'], y=frozen['RetailPrice'], kind='bar')\n",
    "plt.xticks(rotation = 90)\n",
    "plt.ylabel('Retail Price')\n",
    "plt.title('Frozen Fruit VS Retail Price')\n",
    "plt.show()"
   ]
  },
  {
   "cell_type": "code",
   "execution_count": 37,
   "metadata": {},
   "outputs": [
    {
     "data": {
      "text/html": [
       "<div>\n",
       "<style scoped>\n",
       "    .dataframe tbody tr th:only-of-type {\n",
       "        vertical-align: middle;\n",
       "    }\n",
       "\n",
       "    .dataframe tbody tr th {\n",
       "        vertical-align: top;\n",
       "    }\n",
       "\n",
       "    .dataframe thead th {\n",
       "        text-align: right;\n",
       "    }\n",
       "</style>\n",
       "<table border=\"1\" class=\"dataframe\">\n",
       "  <thead>\n",
       "    <tr style=\"text-align: right;\">\n",
       "      <th></th>\n",
       "      <th>Fruit</th>\n",
       "      <th>Form</th>\n",
       "      <th>RetailPrice</th>\n",
       "      <th>RetailPriceUnit</th>\n",
       "      <th>Yield</th>\n",
       "      <th>CupEquivalentSize</th>\n",
       "      <th>CupEquivalentUnit</th>\n",
       "      <th>CupEquivalentPrice</th>\n",
       "    </tr>\n",
       "  </thead>\n",
       "  <tbody>\n",
       "    <tr>\n",
       "      <th>60</th>\n",
       "      <td>Strawberries</td>\n",
       "      <td>Frozen</td>\n",
       "      <td>2.8189</td>\n",
       "      <td>per pound</td>\n",
       "      <td>1.0</td>\n",
       "      <td>0.3307</td>\n",
       "      <td>pounds</td>\n",
       "      <td>0.9322</td>\n",
       "    </tr>\n",
       "  </tbody>\n",
       "</table>\n",
       "</div>"
      ],
      "text/plain": [
       "           Fruit    Form  RetailPrice RetailPriceUnit  Yield  \\\n",
       "60  Strawberries  Frozen       2.8189       per pound    1.0   \n",
       "\n",
       "    CupEquivalentSize CupEquivalentUnit  CupEquivalentPrice  \n",
       "60             0.3307            pounds              0.9322  "
      ]
     },
     "execution_count": 37,
     "metadata": {},
     "output_type": "execute_result"
    }
   ],
   "source": [
    "cheapest_frozen = frozen['RetailPrice'].min()\n",
    "cheapest_frozen = frozen[frozen['RetailPrice'] == cheapest_frozen]\n",
    "cheapest_frozen"
   ]
  },
  {
   "cell_type": "code",
   "execution_count": 38,
   "metadata": {},
   "outputs": [
    {
     "data": {
      "text/html": [
       "<div>\n",
       "<style scoped>\n",
       "    .dataframe tbody tr th:only-of-type {\n",
       "        vertical-align: middle;\n",
       "    }\n",
       "\n",
       "    .dataframe tbody tr th {\n",
       "        vertical-align: top;\n",
       "    }\n",
       "\n",
       "    .dataframe thead th {\n",
       "        text-align: right;\n",
       "    }\n",
       "</style>\n",
       "<table border=\"1\" class=\"dataframe\">\n",
       "  <thead>\n",
       "    <tr style=\"text-align: right;\">\n",
       "      <th></th>\n",
       "      <th>Fruit</th>\n",
       "      <th>Form</th>\n",
       "      <th>RetailPrice</th>\n",
       "      <th>RetailPriceUnit</th>\n",
       "      <th>Yield</th>\n",
       "      <th>CupEquivalentSize</th>\n",
       "      <th>CupEquivalentUnit</th>\n",
       "      <th>CupEquivalentPrice</th>\n",
       "    </tr>\n",
       "  </thead>\n",
       "  <tbody>\n",
       "    <tr>\n",
       "      <th>58</th>\n",
       "      <td>Raspberries</td>\n",
       "      <td>Frozen</td>\n",
       "      <td>4.1877</td>\n",
       "      <td>per pound</td>\n",
       "      <td>1.0</td>\n",
       "      <td>0.3307</td>\n",
       "      <td>pounds</td>\n",
       "      <td>1.3849</td>\n",
       "    </tr>\n",
       "  </tbody>\n",
       "</table>\n",
       "</div>"
      ],
      "text/plain": [
       "          Fruit    Form  RetailPrice RetailPriceUnit  Yield  \\\n",
       "58  Raspberries  Frozen       4.1877       per pound    1.0   \n",
       "\n",
       "    CupEquivalentSize CupEquivalentUnit  CupEquivalentPrice  \n",
       "58             0.3307            pounds              1.3849  "
      ]
     },
     "execution_count": 38,
     "metadata": {},
     "output_type": "execute_result"
    }
   ],
   "source": [
    "expensive_frozen = frozen['RetailPrice'].max()\n",
    "expensive_frozen = frozen[frozen['RetailPrice'] == expensive_frozen]\n",
    "expensive_frozen"
   ]
  },
  {
   "cell_type": "code",
   "execution_count": 39,
   "metadata": {},
   "outputs": [
    {
     "data": {
      "text/plain": [
       "3.4962999999999997"
      ]
     },
     "execution_count": 39,
     "metadata": {},
     "output_type": "execute_result"
    }
   ],
   "source": [
    "average_frozen = frozen['RetailPrice'].mean()\n",
    "average_frozen"
   ]
  },
  {
   "cell_type": "code",
   "execution_count": 40,
   "metadata": {},
   "outputs": [
    {
     "name": "stderr",
     "output_type": "stream",
     "text": [
      "c:\\Users\\steph\\AppData\\Local\\Programs\\Python\\Python311\\Lib\\site-packages\\seaborn\\axisgrid.py:123: UserWarning: The figure layout has changed to tight\n",
      "  self._figure.tight_layout(*args, **kwargs)\n"
     ]
    },
    {
     "data": {
      "image/png": "[encoded data removed]",
      "text/plain": [
       "<Figure size 500x500 with 1 Axes>"
      ]
     },
     "metadata": {},
     "output_type": "display_data"
    },
    {
     "data": {
      "text/plain": [
       "<Figure size 1000x2000 with 0 Axes>"
      ]
     },
     "metadata": {},
     "output_type": "display_data"
    }
   ],
   "source": [
    "sns.catplot(x=df['Fruit'], y=df['RetailPrice'], kind='bar')\n",
    "plt.xticks(rotation=90)\n",
    "plt.figure(figsize=(10,20))\n",
    "plt.show()"
   ]
  },
  {
   "cell_type": "code",
   "execution_count": 41,
   "metadata": {},
   "outputs": [
    {
     "data": {
      "text/html": [
       "<div>\n",
       "<style scoped>\n",
       "    .dataframe tbody tr th:only-of-type {\n",
       "        vertical-align: middle;\n",
       "    }\n",
       "\n",
       "    .dataframe tbody tr th {\n",
       "        vertical-align: top;\n",
       "    }\n",
       "\n",
       "    .dataframe thead th {\n",
       "        text-align: right;\n",
       "    }\n",
       "</style>\n",
       "<table border=\"1\" class=\"dataframe\">\n",
       "  <thead>\n",
       "    <tr style=\"text-align: right;\">\n",
       "      <th></th>\n",
       "      <th>Fruit</th>\n",
       "      <th>Form</th>\n",
       "      <th>RetailPrice</th>\n",
       "      <th>RetailPriceUnit</th>\n",
       "      <th>Yield</th>\n",
       "      <th>CupEquivalentSize</th>\n",
       "      <th>CupEquivalentUnit</th>\n",
       "      <th>CupEquivalentPrice</th>\n",
       "    </tr>\n",
       "  </thead>\n",
       "  <tbody>\n",
       "    <tr>\n",
       "      <th>61</th>\n",
       "      <td>Watermelon</td>\n",
       "      <td>Fresh</td>\n",
       "      <td>0.3604</td>\n",
       "      <td>per pound</td>\n",
       "      <td>0.52</td>\n",
       "      <td>0.3307</td>\n",
       "      <td>pounds</td>\n",
       "      <td>0.2292</td>\n",
       "    </tr>\n",
       "  </tbody>\n",
       "</table>\n",
       "</div>"
      ],
      "text/plain": [
       "         Fruit   Form  RetailPrice RetailPriceUnit  Yield  CupEquivalentSize  \\\n",
       "61  Watermelon  Fresh       0.3604       per pound   0.52             0.3307   \n",
       "\n",
       "   CupEquivalentUnit  CupEquivalentPrice  \n",
       "61            pounds              0.2292  "
      ]
     },
     "execution_count": 41,
     "metadata": {},
     "output_type": "execute_result"
    }
   ],
   "source": [
    "cheapest_fruit = df['RetailPrice'].min()\n",
    "cheapest_fruit = df[df['RetailPrice']==cheapest_fruit]\n",
    "cheapest_fruit"
   ]
  },
  {
   "cell_type": "code",
   "execution_count": 42,
   "metadata": {},
   "outputs": [
    {
     "data": {
      "text/html": [
       "<div>\n",
       "<style scoped>\n",
       "    .dataframe tbody tr th:only-of-type {\n",
       "        vertical-align: middle;\n",
       "    }\n",
       "\n",
       "    .dataframe tbody tr th {\n",
       "        vertical-align: top;\n",
       "    }\n",
       "\n",
       "    .dataframe thead th {\n",
       "        text-align: right;\n",
       "    }\n",
       "</style>\n",
       "<table border=\"1\" class=\"dataframe\">\n",
       "  <thead>\n",
       "    <tr style=\"text-align: right;\">\n",
       "      <th></th>\n",
       "      <th>Fruit</th>\n",
       "      <th>Form</th>\n",
       "      <th>RetailPrice</th>\n",
       "      <th>RetailPriceUnit</th>\n",
       "      <th>Yield</th>\n",
       "      <th>CupEquivalentSize</th>\n",
       "      <th>CupEquivalentUnit</th>\n",
       "      <th>CupEquivalentPrice</th>\n",
       "    </tr>\n",
       "  </thead>\n",
       "  <tbody>\n",
       "    <tr>\n",
       "      <th>32</th>\n",
       "      <td>Mangoes</td>\n",
       "      <td>Dried</td>\n",
       "      <td>10.5527</td>\n",
       "      <td>per pound</td>\n",
       "      <td>1.0</td>\n",
       "      <td>0.1253</td>\n",
       "      <td>pounds</td>\n",
       "      <td>1.3219</td>\n",
       "    </tr>\n",
       "  </tbody>\n",
       "</table>\n",
       "</div>"
      ],
      "text/plain": [
       "      Fruit   Form  RetailPrice RetailPriceUnit  Yield  CupEquivalentSize  \\\n",
       "32  Mangoes  Dried      10.5527       per pound    1.0             0.1253   \n",
       "\n",
       "   CupEquivalentUnit  CupEquivalentPrice  \n",
       "32            pounds              1.3219  "
      ]
     },
     "execution_count": 42,
     "metadata": {},
     "output_type": "execute_result"
    }
   ],
   "source": [
    "expensive_fruit = df['RetailPrice'].max()\n",
    "expensive_fruit = df[df['RetailPrice']==expensive_fruit]\n",
    "expensive_fruit"
   ]
  },
  {
   "cell_type": "markdown",
   "metadata": {},
   "source": [
    "## Conclusions\n"
   ]
  },
  {
   "cell_type": "markdown",
   "metadata": {},
   "source": []
  }
 ],
 "metadata": {
  "kernelspec": {
   "display_name": "Python 3",
   "language": "python",
   "name": "python3"
  },
  "language_info": {
   "codemirror_mode": {
    "name": "ipython",
    "version": 3
   },
   "file_extension": ".py",
   "mimetype": "text/x-python",
   "name": "python",
   "nbconvert_exporter": "python",
   "pygments_lexer": "ipython3",
   "version": "3.11.1"
  },
  "orig_nbformat": 4
 },
 "nbformat": 4,
 "nbformat_minor": 2
}
